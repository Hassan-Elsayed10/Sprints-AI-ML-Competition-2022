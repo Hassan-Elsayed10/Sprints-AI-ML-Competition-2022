{
 "cells": [
  {
   "cell_type": "code",
   "execution_count": 18,
   "metadata": {
    "id": "cexMq6yUElQr"
   },
   "outputs": [],
   "source": [
    "import tensorflow as tf\n",
    "from tensorflow import keras\n",
    "from keras.layers.core import Activation, Dropout, Flatten, Dense\n",
    "from keras.layers import Convolution2D as Conv2D\n",
    "from keras.layers import MaxPooling2D\n",
    "from keras.preprocessing.image import ImageDataGenerator\n",
    "from tensorflow.keras.preprocessing.image import load_img\n",
    "import warnings\n",
    "from tensorflow.keras.optimizers import Adam\n",
    "from PIL import Image\n",
    "import matplotlib.pyplot as plt\n",
    "%matplotlib inline"
   ]
  },
  {
   "cell_type": "code",
   "execution_count": 19,
   "metadata": {
    "id": "rO9gdSTeEwlB"
   },
   "outputs": [],
   "source": [
    "input_shape=(224,224,1)"
   ]
  },
  {
   "cell_type": "code",
   "execution_count": 20,
   "metadata": {
    "colab": {
     "base_uri": "https://localhost:8080/"
    },
    "id": "5U0efkxhEwna",
    "outputId": "6b136354-7089-4b3b-fbab-98a2858c1aab"
   },
   "outputs": [
    {
     "name": "stdout",
     "output_type": "stream",
     "text": [
      "Model: \"sequential_3\"\n",
      "_________________________________________________________________\n",
      " Layer (type)                Output Shape              Param #   \n",
      "=================================================================\n",
      " conv2d_12 (Conv2D)          (None, 224, 224, 32)      320       \n",
      "                                                                 \n",
      " max_pooling2d_12 (MaxPoolin  (None, 112, 112, 32)     0         \n",
      " g2D)                                                            \n",
      "                                                                 \n",
      " conv2d_13 (Conv2D)          (None, 112, 112, 32)      9248      \n",
      "                                                                 \n",
      " max_pooling2d_13 (MaxPoolin  (None, 56, 56, 32)       0         \n",
      " g2D)                                                            \n",
      "                                                                 \n",
      " conv2d_14 (Conv2D)          (None, 56, 56, 64)        18496     \n",
      "                                                                 \n",
      " max_pooling2d_14 (MaxPoolin  (None, 28, 28, 64)       0         \n",
      " g2D)                                                            \n",
      "                                                                 \n",
      " conv2d_15 (Conv2D)          (None, 28, 28, 64)        36928     \n",
      "                                                                 \n",
      " max_pooling2d_15 (MaxPoolin  (None, 14, 14, 64)       0         \n",
      " g2D)                                                            \n",
      "                                                                 \n",
      " flatten_3 (Flatten)         (None, 12544)             0         \n",
      "                                                                 \n",
      " dense_9 (Dense)             (None, 512)               6423040   \n",
      "                                                                 \n",
      " dense_10 (Dense)            (None, 64)                32832     \n",
      "                                                                 \n",
      " dropout_3 (Dropout)         (None, 64)                0         \n",
      "                                                                 \n",
      " dense_11 (Dense)            (None, 6)                 390       \n",
      "                                                                 \n",
      "=================================================================\n",
      "Total params: 6,521,254\n",
      "Trainable params: 6,521,254\n",
      "Non-trainable params: 0\n",
      "_________________________________________________________________\n"
     ]
    }
   ],
   "source": [
    "model = tf.keras.Sequential()\n",
    "model.add(Conv2D(32, (3, 3), activation='relu', input_shape=input_shape, padding='same'))\n",
    "model.add(MaxPooling2D(pool_size=(2, 2)))\n",
    "model.add(Conv2D(32, (3, 3), activation='relu', padding='same'))\n",
    "model.add(MaxPooling2D(pool_size=(2, 2)))\n",
    "model.add(Conv2D(64, (3, 3), activation='relu', padding=\"same\"))\n",
    "model.add(MaxPooling2D(pool_size=(2, 2)))\n",
    "model.add(Conv2D(64, (3, 3), activation='relu', padding=\"same\"))\n",
    "model.add(MaxPooling2D(pool_size=(2, 2)))\n",
    "model.add(Flatten())\n",
    "model.add(Dense(512, activation=\"relu\"))\n",
    "model.add(Dense(64, activation=\"relu\"))\n",
    "model.add(Dropout(0.2))\n",
    "model.add(Dense(6, activation='softmax'))\n",
    "model.summary()\n"
   ]
  },
  {
   "cell_type": "code",
   "execution_count": 21,
   "metadata": {
    "id": "i_7UuowWEwp8"
   },
   "outputs": [],
   "source": [
    "model.compile(loss='sparse_categorical_crossentropy',optimizer=Adam(learning_rate=0.001),metrics=['accuracy'])"
   ]
  },
  {
   "cell_type": "code",
   "execution_count": 22,
   "metadata": {
    "colab": {
     "base_uri": "https://localhost:8080/"
    },
    "id": "bUPjIiVBEwsM",
    "outputId": "9d1a7ecd-e40b-43b2-92b8-a47630671115"
   },
   "outputs": [
    {
     "name": "stdout",
     "output_type": "stream",
     "text": [
      "Found 14034 files belonging to 6 classes.\n",
      "Using 11228 files for training.\n",
      "Found 14034 files belonging to 6 classes.\n",
      "Using 2806 files for validation.\n"
     ]
    }
   ],
   "source": [
    "data_dir = r'C:\\Users\\HassanElsayedMohamed\\Desktop\\projects\\train'\n",
    "train_ds = tf.keras.preprocessing.image_dataset_from_directory(\n",
    "  data_dir,\n",
    "  validation_split=0.2,\n",
    "  subset=\"training\",\n",
    "  seed=123,\n",
    "  shuffle=True,\n",
    "  image_size=(224, 224),\n",
    "  color_mode='grayscale' , \n",
    "  batch_size=32)\n",
    "\n",
    "val_ds = tf.keras.preprocessing.image_dataset_from_directory(\n",
    "  data_dir,\n",
    "  validation_split=0.2,\n",
    "  subset=\"validation\",\n",
    "  seed=123,\n",
    "  color_mode='grayscale' ,     \n",
    "  image_size=(224, 224),\n",
    "  batch_size=32)\n",
    "\n"
   ]
  },
  {
   "cell_type": "code",
   "execution_count": 24,
   "metadata": {},
   "outputs": [
    {
     "name": "stdout",
     "output_type": "stream",
     "text": [
      "Epoch 1/50\n",
      "351/351 [==============================] - 33s 94ms/step - loss: 1.8681 - accuracy: 0.4512 - val_loss: 1.0361 - val_accuracy: 0.5788\n",
      "Epoch 2/50\n",
      "351/351 [==============================] - 32s 91ms/step - loss: 1.0018 - accuracy: 0.6098 - val_loss: 1.0413 - val_accuracy: 0.6251\n",
      "Epoch 3/50\n",
      "351/351 [==============================] - 32s 91ms/step - loss: 0.8777 - accuracy: 0.6580 - val_loss: 0.8382 - val_accuracy: 0.6803\n",
      "Epoch 4/50\n",
      "351/351 [==============================] - 32s 92ms/step - loss: 0.7265 - accuracy: 0.7178 - val_loss: 0.7782 - val_accuracy: 0.7053\n",
      "Epoch 5/50\n",
      "351/351 [==============================] - 32s 91ms/step - loss: 0.6117 - accuracy: 0.7639 - val_loss: 1.0113 - val_accuracy: 0.6807\n",
      "Epoch 6/50\n",
      "351/351 [==============================] - 32s 91ms/step - loss: 0.5003 - accuracy: 0.8138 - val_loss: 1.0881 - val_accuracy: 0.6700\n",
      "Epoch 7/50\n",
      "351/351 [==============================] - 32s 92ms/step - loss: 0.4160 - accuracy: 0.8468 - val_loss: 1.0087 - val_accuracy: 0.7206\n",
      "Epoch 8/50\n",
      "351/351 [==============================] - 33s 95ms/step - loss: 0.3377 - accuracy: 0.8778 - val_loss: 1.3229 - val_accuracy: 0.6739\n",
      "Epoch 9/50\n",
      "351/351 [==============================] - 33s 94ms/step - loss: 0.2545 - accuracy: 0.9088 - val_loss: 1.1999 - val_accuracy: 0.7263\n",
      "Epoch 10/50\n",
      "351/351 [==============================] - 34s 95ms/step - loss: 0.2192 - accuracy: 0.9276 - val_loss: 1.6777 - val_accuracy: 0.6960\n",
      "Epoch 11/50\n",
      "351/351 [==============================] - 33s 95ms/step - loss: 0.2132 - accuracy: 0.9337 - val_loss: 1.5496 - val_accuracy: 0.7046\n",
      "Epoch 12/50\n",
      "351/351 [==============================] - 34s 96ms/step - loss: 0.1605 - accuracy: 0.9481 - val_loss: 1.6421 - val_accuracy: 0.7131\n",
      "Epoch 13/50\n",
      "351/351 [==============================] - 34s 98ms/step - loss: 0.1589 - accuracy: 0.9511 - val_loss: 1.5949 - val_accuracy: 0.7088\n",
      "Epoch 14/50\n",
      "351/351 [==============================] - 33s 94ms/step - loss: 0.0887 - accuracy: 0.9721 - val_loss: 2.1129 - val_accuracy: 0.7195\n",
      "Epoch 15/50\n",
      "351/351 [==============================] - 33s 94ms/step - loss: 0.0992 - accuracy: 0.9686 - val_loss: 1.8045 - val_accuracy: 0.6999\n",
      "Epoch 16/50\n",
      "351/351 [==============================] - 34s 95ms/step - loss: 0.1006 - accuracy: 0.9685 - val_loss: 1.7529 - val_accuracy: 0.6999\n",
      "Epoch 17/50\n",
      "351/351 [==============================] - 33s 94ms/step - loss: 0.1019 - accuracy: 0.9700 - val_loss: 2.2098 - val_accuracy: 0.6985\n",
      "Epoch 18/50\n",
      "351/351 [==============================] - 33s 94ms/step - loss: 0.1184 - accuracy: 0.9636 - val_loss: 2.0676 - val_accuracy: 0.7149\n",
      "Epoch 19/50\n",
      "351/351 [==============================] - 33s 94ms/step - loss: 0.0793 - accuracy: 0.9747 - val_loss: 1.9181 - val_accuracy: 0.7138\n",
      "Epoch 20/50\n",
      "351/351 [==============================] - 32s 92ms/step - loss: 0.0802 - accuracy: 0.9774 - val_loss: 2.3795 - val_accuracy: 0.6846\n",
      "Epoch 21/50\n",
      "351/351 [==============================] - 33s 95ms/step - loss: 0.0811 - accuracy: 0.9743 - val_loss: 2.3344 - val_accuracy: 0.7131\n",
      "Epoch 22/50\n",
      "351/351 [==============================] - 33s 95ms/step - loss: 0.1152 - accuracy: 0.9686 - val_loss: 2.4915 - val_accuracy: 0.7053\n",
      "Epoch 23/50\n",
      "351/351 [==============================] - 33s 93ms/step - loss: 0.0826 - accuracy: 0.9776 - val_loss: 2.1239 - val_accuracy: 0.6978\n",
      "Epoch 24/50\n",
      "351/351 [==============================] - 33s 94ms/step - loss: 0.0637 - accuracy: 0.9823 - val_loss: 2.2230 - val_accuracy: 0.7078\n",
      "Epoch 25/50\n",
      "351/351 [==============================] - 33s 95ms/step - loss: 0.0592 - accuracy: 0.9849 - val_loss: 2.5453 - val_accuracy: 0.7117\n",
      "Epoch 26/50\n",
      "351/351 [==============================] - 33s 93ms/step - loss: 0.0716 - accuracy: 0.9815 - val_loss: 2.1851 - val_accuracy: 0.6885\n",
      "Epoch 27/50\n",
      "351/351 [==============================] - 34s 96ms/step - loss: 0.0533 - accuracy: 0.9858 - val_loss: 2.7832 - val_accuracy: 0.6828\n",
      "Epoch 28/50\n",
      "351/351 [==============================] - 33s 95ms/step - loss: 0.0511 - accuracy: 0.9854 - val_loss: 2.4631 - val_accuracy: 0.7170\n",
      "Epoch 29/50\n",
      "351/351 [==============================] - 33s 93ms/step - loss: 0.0719 - accuracy: 0.9809 - val_loss: 2.6676 - val_accuracy: 0.6842\n",
      "Epoch 30/50\n",
      "351/351 [==============================] - 33s 94ms/step - loss: 0.0540 - accuracy: 0.9848 - val_loss: 2.5818 - val_accuracy: 0.7081\n",
      "Epoch 31/50\n",
      "351/351 [==============================] - 33s 94ms/step - loss: 0.0855 - accuracy: 0.9777 - val_loss: 2.2587 - val_accuracy: 0.6946\n",
      "Epoch 32/50\n",
      "351/351 [==============================] - 33s 93ms/step - loss: 0.0385 - accuracy: 0.9898 - val_loss: 2.5874 - val_accuracy: 0.7060\n",
      "Epoch 33/50\n",
      "351/351 [==============================] - 32s 92ms/step - loss: 0.0381 - accuracy: 0.9905 - val_loss: 2.8217 - val_accuracy: 0.7053\n",
      "Epoch 34/50\n",
      "351/351 [==============================] - 33s 93ms/step - loss: 0.0547 - accuracy: 0.9857 - val_loss: 2.7334 - val_accuracy: 0.6900\n",
      "Epoch 35/50\n",
      "351/351 [==============================] - 33s 94ms/step - loss: 0.0471 - accuracy: 0.9866 - val_loss: 3.2602 - val_accuracy: 0.6974\n",
      "Epoch 36/50\n",
      "351/351 [==============================] - 33s 94ms/step - loss: 0.0383 - accuracy: 0.9881 - val_loss: 2.5417 - val_accuracy: 0.6953\n",
      "Epoch 37/50\n",
      "351/351 [==============================] - 33s 93ms/step - loss: 0.0552 - accuracy: 0.9866 - val_loss: 2.7594 - val_accuracy: 0.6810\n",
      "Epoch 38/50\n",
      "351/351 [==============================] - 33s 93ms/step - loss: 0.0321 - accuracy: 0.9912 - val_loss: 2.7832 - val_accuracy: 0.7103\n",
      "Epoch 39/50\n",
      "351/351 [==============================] - 33s 93ms/step - loss: 0.0266 - accuracy: 0.9915 - val_loss: 2.9292 - val_accuracy: 0.7156\n",
      "Epoch 40/50\n",
      "351/351 [==============================] - 33s 93ms/step - loss: 0.0554 - accuracy: 0.9851 - val_loss: 2.4805 - val_accuracy: 0.7031\n",
      "Epoch 41/50\n",
      "351/351 [==============================] - 33s 93ms/step - loss: 0.0357 - accuracy: 0.9898 - val_loss: 2.8862 - val_accuracy: 0.7135\n",
      "Epoch 42/50\n",
      "351/351 [==============================] - 33s 93ms/step - loss: 0.0405 - accuracy: 0.9898 - val_loss: 3.0259 - val_accuracy: 0.6782\n",
      "Epoch 43/50\n",
      "351/351 [==============================] - 33s 93ms/step - loss: 0.0704 - accuracy: 0.9809 - val_loss: 2.6738 - val_accuracy: 0.7088\n",
      "Epoch 44/50\n",
      "351/351 [==============================] - 33s 93ms/step - loss: 0.0318 - accuracy: 0.9915 - val_loss: 2.5782 - val_accuracy: 0.7167\n",
      "Epoch 45/50\n",
      "351/351 [==============================] - 33s 93ms/step - loss: 0.0410 - accuracy: 0.9914 - val_loss: 2.5472 - val_accuracy: 0.6939\n",
      "Epoch 46/50\n",
      "351/351 [==============================] - 33s 93ms/step - loss: 0.0480 - accuracy: 0.9871 - val_loss: 2.6946 - val_accuracy: 0.6903\n",
      "Epoch 47/50\n",
      "351/351 [==============================] - 33s 93ms/step - loss: 0.0313 - accuracy: 0.9918 - val_loss: 2.8338 - val_accuracy: 0.7021\n",
      "Epoch 48/50\n",
      "351/351 [==============================] - 33s 93ms/step - loss: 0.0460 - accuracy: 0.9894 - val_loss: 2.8348 - val_accuracy: 0.6964\n",
      "Epoch 49/50\n",
      "351/351 [==============================] - 33s 93ms/step - loss: 0.1066 - accuracy: 0.9842 - val_loss: 2.1524 - val_accuracy: 0.7038\n",
      "Epoch 50/50\n",
      "351/351 [==============================] - 33s 93ms/step - loss: 0.0376 - accuracy: 0.9906 - val_loss: 2.6748 - val_accuracy: 0.7042\n"
     ]
    },
    {
     "data": {
      "text/plain": [
       "<keras.callbacks.History at 0x230aaf61190>"
      ]
     },
     "execution_count": 24,
     "metadata": {},
     "output_type": "execute_result"
    }
   ],
   "source": [
    "model.fit(\n",
    " train_ds,  \n",
    " epochs=50,    \n",
    " validation_data=val_ds)"
   ]
  },
  {
   "cell_type": "code",
   "execution_count": 25,
   "metadata": {},
   "outputs": [],
   "source": [
    "model.save('sequential.hdf5')"
   ]
  },
  {
   "cell_type": "code",
   "execution_count": 26,
   "metadata": {},
   "outputs": [],
   "source": [
    "from keras.models import load_model\n",
    "model_new = load_model(\"sequential.hdf5\")"
   ]
  },
  {
   "cell_type": "code",
   "execution_count": 27,
   "metadata": {},
   "outputs": [
    {
     "name": "stdout",
     "output_type": "stream",
     "text": [
      "88/88 [==============================] - 4s 37ms/step - loss: 2.6748 - accuracy: 0.7042\n",
      "Loss of the model: 2.67\n",
      "Test Accuracy: 70.42%\n"
     ]
    }
   ],
   "source": [
    "scores = model_new.evaluate(val_ds)\n",
    "\n",
    "print(\"Loss of the model: %.2f\"%(scores[0]))\n",
    "print(\"Test Accuracy: %.2f%%\"%(scores[1] * 100))"
   ]
  },
  {
   "cell_type": "code",
   "execution_count": null,
   "metadata": {},
   "outputs": [],
   "source": []
  },
  {
   "cell_type": "code",
   "execution_count": null,
   "metadata": {},
   "outputs": [],
   "source": []
  }
 ],
 "metadata": {
  "accelerator": "GPU",
  "colab": {
   "provenance": []
  },
  "gpuClass": "standard",
  "kernelspec": {
   "display_name": "Python 3 (ipykernel)",
   "language": "python",
   "name": "python3"
  },
  "language_info": {
   "codemirror_mode": {
    "name": "ipython",
    "version": 3
   },
   "file_extension": ".py",
   "mimetype": "text/x-python",
   "name": "python",
   "nbconvert_exporter": "python",
   "pygments_lexer": "ipython3",
   "version": "3.8.13"
  }
 },
 "nbformat": 4,
 "nbformat_minor": 1
}
